{
 "cells": [
  {
   "cell_type": "code",
   "execution_count": 1,
   "metadata": {},
   "outputs": [],
   "source": [
    "from dotenv import load_dotenv\n",
    "load_dotenv()\n",
    "\n",
    "import os"
   ]
  },
  {
   "cell_type": "code",
   "execution_count": 2,
   "metadata": {},
   "outputs": [],
   "source": [
    "import json\n",
    "\n",
    "# ELYZA-tasks-100-TVデータセットのロード\n",
    "def load_elyza_tasks(file_path):\n",
    "    data = []\n",
    "    with open(file_path, 'r', encoding='utf-8') as f:\n",
    "        for line in f:\n",
    "            data.append(json.loads(line))\n",
    "    return data\n",
    "\n",
    "test_dataset = load_elyza_tasks('elyza-tasks-100-TV_0.jsonl')"
   ]
  },
  {
   "cell_type": "code",
   "execution_count": 3,
   "metadata": {},
   "outputs": [
    {
     "name": "stderr",
     "output_type": "stream",
     "text": [
      "/home/kaito/anaconda3/envs/llmf/lib/python3.12/site-packages/tqdm/auto.py:21: TqdmWarning: IProgress not found. Please update jupyter and ipywidgets. See https://ipywidgets.readthedocs.io/en/stable/user_install.html\n",
      "  from .autonotebook import tqdm as notebook_tqdm\n",
      "Loading checkpoint shards: 100%|██████████| 8/8 [00:11<00:00,  1.44s/it]\n"
     ]
    }
   ],
   "source": [
    "from transformers import AutoTokenizer, AutoModelForCausalLM, BitsAndBytesConfig\n",
    "from peft import PeftModel\n",
    "import torch\n",
    "\n",
    "# モデルのロード\n",
    "model_name = \"lora_gemma_9b\"  # 微調整後のモデルのパス\n",
    "tokenizer = AutoTokenizer.from_pretrained(model_name, use_fast=False)\n",
    "bnb_config = BitsAndBytesConfig(\n",
    "    load_in_8bit=True,\n",
    "    llm_int8_threshold=6.0,\n",
    ")\n",
    "base_model = AutoModelForCausalLM.from_pretrained(\n",
    "    \"google/gemma-2-9b\",\n",
    "    device_map=\"auto\",\n",
    "    quantization_config=bnb_config,\n",
    "    torch_dtype=torch.float16,\n",
    "    token=os.getenv(\"HF_TOKEN\"),\n",
    ")\n",
    "\n",
    "# LoRAアダプターの読み込み\n",
    "model = PeftModel.from_pretrained(base_model, model_name)"
   ]
  },
  {
   "cell_type": "code",
   "execution_count": 4,
   "metadata": {},
   "outputs": [],
   "source": [
    "from datasets import load_dataset\n",
    "\n",
    "# データセットをロード\n",
    "dataset = load_dataset(\"elyza/ELYZA-tasks-100\")  # 実際のデータセットパスに変更\n",
    "\n",
    "# トレーニングデータのみを使用\n",
    "train_dataset = dataset[\"test\"]\n",
    "\n",
    "# プロンプトエンジニアリングに使うサンプル\n",
    "num_samples = 3\n",
    "few_shot_samples = train_dataset.select(range(num_samples))"
   ]
  },
  {
   "cell_type": "code",
   "execution_count": 18,
   "metadata": {},
   "outputs": [
    {
     "name": "stderr",
     "output_type": "stream",
     "text": [
      "100%|██████████| 100/100 [14:58<00:00,  8.98s/it]\n"
     ]
    }
   ],
   "source": [
    "import torch\n",
    "from tqdm import tqdm\n",
    "\n",
    "def generate_prompt(input_text, examples):\n",
    "    prompt = \"\"\n",
    "    for idx, example in enumerate(examples, 1):\n",
    "        prompt += f\"[例{idx}]\\n\"\n",
    "        prompt += f\"入力: {example['input']}\\n\"\n",
    "        prompt += f\"出力: {example['output']}\\n\\n\"\n",
    "    prompt += \"[あなたの質問]\\n\"\n",
    "    prompt += f\"入力: {input_text}\\n\"\n",
    "    prompt += \"出力:\"\n",
    "    return prompt\n",
    "\n",
    "def generate_response(model, tokenizer, prompt):\n",
    "    inputs = tokenizer(\n",
    "        prompt,\n",
    "        return_tensors=\"pt\",\n",
    "        truncation=True,\n",
    "        max_length=1024,\n",
    "    ).to(model.device)\n",
    "    \n",
    "    with torch.no_grad():\n",
    "        outputs = model.generate(\n",
    "            input_ids=inputs[\"input_ids\"],\n",
    "            attention_mask=inputs[\"attention_mask\"],\n",
    "            max_new_tokens=256,\n",
    "            temperature=0.7,\n",
    "            repetition_penalty=1.1,\n",
    "            top_p=0.9,\n",
    "            do_sample=True,\n",
    "            eos_token_id=tokenizer.eos_token_id,\n",
    "        )\n",
    "    \n",
    "    output_text = tokenizer.decode(outputs[0][inputs[\"input_ids\"].shape[-1]:], skip_special_tokens=True)\n",
    "    # print(f\"output_text: {output_text}\\n\")\n",
    "    return output_text\n",
    "\n",
    "# 推論と結果の収集\n",
    "results = []\n",
    "for test_data in tqdm(test_dataset):\n",
    "    task_id = test_data[\"task_id\"]\n",
    "    input_text = test_data[\"input\"]\n",
    "    # print(f\"task_id: {task_id}, input_text: {input_text}\\n\")\n",
    "    prompt = generate_prompt(input_text, few_shot_samples)\n",
    "    # print(f\"prompt: {prompt}\\n\")\n",
    "    response = generate_response(model, tokenizer, prompt)\n",
    "    results.append({\n",
    "        \"task_id\": task_id,\n",
    "        \"output\": response,\n",
    "    })"
   ]
  },
  {
   "cell_type": "code",
   "execution_count": 19,
   "metadata": {},
   "outputs": [],
   "source": [
    "# 結果をJSON Lines形式で保存\n",
    "with open(\"submission.jsonl\", \"w\", encoding=\"utf-8\") as f:\n",
    "    for result in results:\n",
    "        json_line = json.dumps(result, ensure_ascii=False)\n",
    "        f.write(json_line + \"\\n\")"
   ]
  }
 ],
 "metadata": {
  "kernelspec": {
   "display_name": "llmf",
   "language": "python",
   "name": "python3"
  },
  "language_info": {
   "codemirror_mode": {
    "name": "ipython",
    "version": 3
   },
   "file_extension": ".py",
   "mimetype": "text/x-python",
   "name": "python",
   "nbconvert_exporter": "python",
   "pygments_lexer": "ipython3",
   "version": "3.12.7"
  }
 },
 "nbformat": 4,
 "nbformat_minor": 2
}
